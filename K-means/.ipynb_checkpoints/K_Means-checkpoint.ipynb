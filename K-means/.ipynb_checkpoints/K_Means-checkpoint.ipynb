{
 "cells": [
  {
   "cell_type": "code",
   "execution_count": 1,
   "id": "621fa45a-e06d-41c1-8492-30b22654d40d",
   "metadata": {},
   "outputs": [],
   "source": [
    "import numpy as np"
   ]
  },
  {
   "cell_type": "code",
   "execution_count": 19,
   "id": "d1cd4033-868f-4fe9-89fc-ba287dc0078e",
   "metadata": {},
   "outputs": [],
   "source": [
    "class KMeans:\n",
    "    def __init__(self, n_clusters=3, max_iter=100, tol=0.0001):\n",
    "        self.n_clusters = n_clusters\n",
    "        self.max_iter = max_iter\n",
    "        self.tol = tol\n",
    "\n",
    "    def fit(self, X):\n",
    "        # Randomly Assign Centroid\n",
    "        np.random.seed(42)   # for reproducibility (to get same values when the is run again)\n",
    "        self.centroids = X[np.random.choice(range(len(X)), self.n_clusters, replace=False)]\n",
    "\n",
    "        for i in range(self.max_iter):\n",
    "            # Assign Clusters\n",
    "            self.labels = self._assign_clusters(X)\n",
    "\n",
    "            # Update Centroids\n",
    "            new_centroids = self._calculate_centroids(X)\n",
    "\n",
    "            if np.all(np.abs(self.centroids - new_centroids) < self.tol):\n",
    "                break\n",
    "            self.centroids = new_centroids\n",
    "            \n",
    "    def _assign_clusters(self, X):\n",
    "        distances = np.linalg.norm(X[:, np.newaxis] - self.centroids, axis=2)\n",
    "        return np.argmin(distances, axis=1)\n",
    "\n",
    "    def _calculate_centroids(self, X):\n",
    "        return np.array([X[self.labels == i].mean(axis=0) for i in range(self.n_clusters)])\n",
    "\n",
    "    def predict(self, X):\n",
    "        return self._assign_clusters(X)"
   ]
  },
  {
   "cell_type": "code",
   "execution_count": 21,
   "id": "c4b4827d-0b35-49bd-8f02-20f9ef341c87",
   "metadata": {},
   "outputs": [
    {
     "name": "stdout",
     "output_type": "stream",
     "text": [
      "Centroids:\n",
      " [[2.         3.        ]\n",
      " [9.         8.33333333]]\n",
      "Predicted clusters for new points:\n",
      " [0 1]\n"
     ]
    }
   ],
   "source": [
    "X = np.array([[1, 2], [2, 3], [3, 4], [8, 7], [9, 8], [10, 10]])\n",
    "\n",
    "# Create KMeans object\n",
    "kmeans = KMeans(n_clusters=2)\n",
    "\n",
    "# Fit the model\n",
    "kmeans.fit(X)\n",
    "\n",
    "# Print centroids\n",
    "print(\"Centroids:\\n\", kmeans.centroids)\n",
    "\n",
    "# Predict the cluster of new points\n",
    "new_points = np.array([[0, 0], [9, 9]])\n",
    "print(\"Predicted clusters for new points:\\n\", kmeans.predict(new_points))"
   ]
  },
  {
   "cell_type": "code",
   "execution_count": null,
   "id": "76ce9d7a-babb-4e7b-89ee-b1fcf1be6204",
   "metadata": {},
   "outputs": [],
   "source": []
  }
 ],
 "metadata": {
  "kernelspec": {
   "display_name": "Python 3 (ipykernel)",
   "language": "python",
   "name": "python3"
  },
  "language_info": {
   "codemirror_mode": {
    "name": "ipython",
    "version": 3
   },
   "file_extension": ".py",
   "mimetype": "text/x-python",
   "name": "python",
   "nbconvert_exporter": "python",
   "pygments_lexer": "ipython3",
   "version": "3.12.4"
  }
 },
 "nbformat": 4,
 "nbformat_minor": 5
}
